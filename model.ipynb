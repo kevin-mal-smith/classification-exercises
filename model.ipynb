{
 "cells": [
  {
   "cell_type": "code",
   "execution_count": 4,
   "id": "8218f294",
   "metadata": {},
   "outputs": [],
   "source": [
    "import pandas as pd\n",
    "import seaborn as sns\n",
    "import warnings\n",
    "warnings.filterwarnings(\"ignore\")\n",
    "\n",
    "import numpy as np\n",
    "import matplotlib.pyplot as plt\n",
    "from pydataset import data\n",
    "from sklearn.linear_model import LogisticRegression\n",
    "from sklearn.model_selection import train_test_split\n",
    "from sklearn.neighbors import KNeighborsClassifier\n",
    "from sklearn.tree import DecisionTreeClassifier, plot_tree\n",
    "from sklearn.ensemble import RandomForestClassifier\n",
    "from sklearn.metrics import classification_report\n",
    "from sklearn.metrics import confusion_matrix\n",
    "from sklearn.model_selection import train_test_split\n",
    "import acquire\n",
    "import prepare"
   ]
  },
  {
   "cell_type": "code",
   "execution_count": 52,
   "id": "ab3d1c64",
   "metadata": {},
   "outputs": [
    {
     "name": "stdout",
     "output_type": "stream",
     "text": [
      "<class 'pandas.core.frame.DataFrame'>\n",
      "Int64Index: 891 entries, 0 to 890\n",
      "Data columns (total 13 columns):\n",
      " #   Column        Non-Null Count  Dtype  \n",
      "---  ------        --------------  -----  \n",
      " 0   passenger_id  891 non-null    int64  \n",
      " 1   survived      891 non-null    int64  \n",
      " 2   pclass        891 non-null    int64  \n",
      " 3   sex           891 non-null    object \n",
      " 4   age           714 non-null    float64\n",
      " 5   sibsp         891 non-null    int64  \n",
      " 6   parch         891 non-null    int64  \n",
      " 7   fare          891 non-null    float64\n",
      " 8   embarked      889 non-null    object \n",
      " 9   class         891 non-null    object \n",
      " 10  deck          203 non-null    object \n",
      " 11  embark_town   889 non-null    object \n",
      " 12  alone         891 non-null    int64  \n",
      "dtypes: float64(2), int64(6), object(5)\n",
      "memory usage: 97.5+ KB\n"
     ]
    }
   ],
   "source": [
    "df = acquire.get_titanic_data()\n",
    "df.info()"
   ]
  },
  {
   "cell_type": "code",
   "execution_count": 58,
   "id": "90dd6b6b",
   "metadata": {
    "scrolled": true
   },
   "outputs": [
    {
     "data": {
      "text/html": [
       "<div>\n",
       "<style scoped>\n",
       "    .dataframe tbody tr th:only-of-type {\n",
       "        vertical-align: middle;\n",
       "    }\n",
       "\n",
       "    .dataframe tbody tr th {\n",
       "        vertical-align: top;\n",
       "    }\n",
       "\n",
       "    .dataframe thead th {\n",
       "        text-align: right;\n",
       "    }\n",
       "</style>\n",
       "<table border=\"1\" class=\"dataframe\">\n",
       "  <thead>\n",
       "    <tr style=\"text-align: right;\">\n",
       "      <th></th>\n",
       "      <th>survived</th>\n",
       "      <th>pclass</th>\n",
       "      <th>sibsp</th>\n",
       "      <th>parch</th>\n",
       "      <th>fare</th>\n",
       "      <th>alone</th>\n",
       "      <th>sex_male</th>\n",
       "      <th>embark_town_Queenstown</th>\n",
       "      <th>embark_town_Southampton</th>\n",
       "    </tr>\n",
       "  </thead>\n",
       "  <tbody>\n",
       "    <tr>\n",
       "      <th>458</th>\n",
       "      <td>1</td>\n",
       "      <td>2</td>\n",
       "      <td>0</td>\n",
       "      <td>0</td>\n",
       "      <td>10.5000</td>\n",
       "      <td>1</td>\n",
       "      <td>0</td>\n",
       "      <td>0</td>\n",
       "      <td>1</td>\n",
       "    </tr>\n",
       "    <tr>\n",
       "      <th>271</th>\n",
       "      <td>1</td>\n",
       "      <td>3</td>\n",
       "      <td>0</td>\n",
       "      <td>0</td>\n",
       "      <td>0.0000</td>\n",
       "      <td>1</td>\n",
       "      <td>1</td>\n",
       "      <td>0</td>\n",
       "      <td>1</td>\n",
       "    </tr>\n",
       "    <tr>\n",
       "      <th>528</th>\n",
       "      <td>0</td>\n",
       "      <td>3</td>\n",
       "      <td>0</td>\n",
       "      <td>0</td>\n",
       "      <td>7.9250</td>\n",
       "      <td>1</td>\n",
       "      <td>1</td>\n",
       "      <td>0</td>\n",
       "      <td>1</td>\n",
       "    </tr>\n",
       "    <tr>\n",
       "      <th>580</th>\n",
       "      <td>1</td>\n",
       "      <td>2</td>\n",
       "      <td>1</td>\n",
       "      <td>1</td>\n",
       "      <td>30.0000</td>\n",
       "      <td>0</td>\n",
       "      <td>0</td>\n",
       "      <td>0</td>\n",
       "      <td>1</td>\n",
       "    </tr>\n",
       "    <tr>\n",
       "      <th>124</th>\n",
       "      <td>0</td>\n",
       "      <td>1</td>\n",
       "      <td>0</td>\n",
       "      <td>1</td>\n",
       "      <td>77.2875</td>\n",
       "      <td>0</td>\n",
       "      <td>1</td>\n",
       "      <td>0</td>\n",
       "      <td>1</td>\n",
       "    </tr>\n",
       "    <tr>\n",
       "      <th>...</th>\n",
       "      <td>...</td>\n",
       "      <td>...</td>\n",
       "      <td>...</td>\n",
       "      <td>...</td>\n",
       "      <td>...</td>\n",
       "      <td>...</td>\n",
       "      <td>...</td>\n",
       "      <td>...</td>\n",
       "      <td>...</td>\n",
       "    </tr>\n",
       "    <tr>\n",
       "      <th>611</th>\n",
       "      <td>0</td>\n",
       "      <td>3</td>\n",
       "      <td>0</td>\n",
       "      <td>0</td>\n",
       "      <td>7.0500</td>\n",
       "      <td>1</td>\n",
       "      <td>1</td>\n",
       "      <td>0</td>\n",
       "      <td>1</td>\n",
       "    </tr>\n",
       "    <tr>\n",
       "      <th>430</th>\n",
       "      <td>1</td>\n",
       "      <td>1</td>\n",
       "      <td>0</td>\n",
       "      <td>0</td>\n",
       "      <td>26.5500</td>\n",
       "      <td>1</td>\n",
       "      <td>1</td>\n",
       "      <td>0</td>\n",
       "      <td>1</td>\n",
       "    </tr>\n",
       "    <tr>\n",
       "      <th>598</th>\n",
       "      <td>0</td>\n",
       "      <td>3</td>\n",
       "      <td>0</td>\n",
       "      <td>0</td>\n",
       "      <td>7.2250</td>\n",
       "      <td>1</td>\n",
       "      <td>1</td>\n",
       "      <td>0</td>\n",
       "      <td>0</td>\n",
       "    </tr>\n",
       "    <tr>\n",
       "      <th>517</th>\n",
       "      <td>0</td>\n",
       "      <td>3</td>\n",
       "      <td>0</td>\n",
       "      <td>0</td>\n",
       "      <td>24.1500</td>\n",
       "      <td>1</td>\n",
       "      <td>1</td>\n",
       "      <td>1</td>\n",
       "      <td>0</td>\n",
       "    </tr>\n",
       "    <tr>\n",
       "      <th>22</th>\n",
       "      <td>1</td>\n",
       "      <td>3</td>\n",
       "      <td>0</td>\n",
       "      <td>0</td>\n",
       "      <td>8.0292</td>\n",
       "      <td>1</td>\n",
       "      <td>0</td>\n",
       "      <td>1</td>\n",
       "      <td>0</td>\n",
       "    </tr>\n",
       "  </tbody>\n",
       "</table>\n",
       "<p>534 rows × 9 columns</p>\n",
       "</div>"
      ],
      "text/plain": [
       "     survived  pclass  sibsp  parch     fare  alone  sex_male  \\\n",
       "458         1       2      0      0  10.5000      1         0   \n",
       "271         1       3      0      0   0.0000      1         1   \n",
       "528         0       3      0      0   7.9250      1         1   \n",
       "580         1       2      1      1  30.0000      0         0   \n",
       "124         0       1      0      1  77.2875      0         1   \n",
       "..        ...     ...    ...    ...      ...    ...       ...   \n",
       "611         0       3      0      0   7.0500      1         1   \n",
       "430         1       1      0      0  26.5500      1         1   \n",
       "598         0       3      0      0   7.2250      1         1   \n",
       "517         0       3      0      0  24.1500      1         1   \n",
       "22          1       3      0      0   8.0292      1         0   \n",
       "\n",
       "     embark_town_Queenstown  embark_town_Southampton  \n",
       "458                       0                        1  \n",
       "271                       0                        1  \n",
       "528                       0                        1  \n",
       "580                       0                        1  \n",
       "124                       0                        1  \n",
       "..                      ...                      ...  \n",
       "611                       0                        1  \n",
       "430                       0                        1  \n",
       "598                       0                        0  \n",
       "517                       1                        0  \n",
       "22                        1                        0  \n",
       "\n",
       "[534 rows x 9 columns]"
      ]
     },
     "execution_count": 58,
     "metadata": {},
     "output_type": "execute_result"
    }
   ],
   "source": [
    "train,validate,test = prepare.prep_titanic(df)\n",
    "train"
   ]
  },
  {
   "cell_type": "markdown",
   "id": "597d1aed",
   "metadata": {},
   "source": [
    "### exercise 1:\n",
    "What is your baseline prediction? What is your baseline accuracy? remember: your baseline prediction for a classification problem is predicting the most prevelant class in the training dataset (the mode). When you make those predictions, what is your accuracy? This is your baseline accuracy."
   ]
  },
  {
   "cell_type": "code",
   "execution_count": 4,
   "id": "bc57e69e",
   "metadata": {},
   "outputs": [
    {
     "data": {
      "text/plain": [
       "0.616"
      ]
     },
     "execution_count": 4,
     "metadata": {},
     "output_type": "execute_result"
    }
   ],
   "source": [
    "train.survived.mode()\n",
    "\n",
    "\n",
    "baseline_accuracy = (0 == train.survived).mean()\n",
    "baseline_accuracy.round(3)"
   ]
  },
  {
   "cell_type": "markdown",
   "id": "5929b6c2",
   "metadata": {},
   "source": [
    "### exercise 2:\n",
    "\n",
    "Fit the decision tree classifier to your training sample and transform (i.e. make predictions on the training sample)"
   ]
  },
  {
   "cell_type": "code",
   "execution_count": 59,
   "id": "e7a0c38f",
   "metadata": {},
   "outputs": [],
   "source": [
    "x_train = train.drop(columns=['survived'])\n",
    "y_train = train['survived']\n",
    "\n",
    "x_validate = validate.drop(columns=['survived'])\n",
    "y_validate = validate['survived']\n",
    "\n",
    "x_test = test.drop(columns=['survived'])\n",
    "y_test = test['survived']"
   ]
  },
  {
   "cell_type": "code",
   "execution_count": 6,
   "id": "b345bd5b",
   "metadata": {},
   "outputs": [
    {
     "data": {
      "text/plain": [
       "array([1, 0, 0, 1, 0])"
      ]
     },
     "execution_count": 6,
     "metadata": {},
     "output_type": "execute_result"
    }
   ],
   "source": [
    "clf = DecisionTreeClassifier(max_depth=3, random_state=123)\n",
    "clf = clf.fit(x_train, y_train)\n",
    "y_pred = clf.predict(x_train)\n",
    "y_pred[0:5]\n"
   ]
  },
  {
   "cell_type": "markdown",
   "id": "d9781003",
   "metadata": {},
   "source": [
    "### exercise 3:\n",
    "Evaluate your in-sample results using the model score, confusion matrix, and classification report."
   ]
  },
  {
   "cell_type": "code",
   "execution_count": 7,
   "id": "abeb21d0",
   "metadata": {},
   "outputs": [
    {
     "data": {
      "text/plain": [
       "0.8089887640449438"
      ]
     },
     "execution_count": 7,
     "metadata": {},
     "output_type": "execute_result"
    }
   ],
   "source": [
    "clf.score(x_train, y_train)"
   ]
  },
  {
   "cell_type": "code",
   "execution_count": 8,
   "id": "e91b07c5",
   "metadata": {},
   "outputs": [
    {
     "data": {
      "text/plain": [
       "array([[294,  67],\n",
       "       [ 35, 138]])"
      ]
     },
     "execution_count": 8,
     "metadata": {},
     "output_type": "execute_result"
    }
   ],
   "source": [
    "confusion_matrix(y_pred,y_train)"
   ]
  },
  {
   "cell_type": "code",
   "execution_count": 9,
   "id": "71060c44",
   "metadata": {},
   "outputs": [
    {
     "name": "stdout",
     "output_type": "stream",
     "text": [
      "              precision    recall  f1-score   support\n",
      "\n",
      "           0       0.81      0.89      0.85       329\n",
      "           1       0.80      0.67      0.73       205\n",
      "\n",
      "    accuracy                           0.81       534\n",
      "   macro avg       0.81      0.78      0.79       534\n",
      "weighted avg       0.81      0.81      0.81       534\n",
      "\n"
     ]
    },
    {
     "data": {
      "text/plain": [
       "0    329\n",
       "1    205\n",
       "Name: survived, dtype: int64"
      ]
     },
     "execution_count": 9,
     "metadata": {},
     "output_type": "execute_result"
    }
   ],
   "source": [
    "print(classification_report(y_train, y_pred))\n",
    "\n",
    "train.survived.value_counts()"
   ]
  },
  {
   "cell_type": "markdown",
   "id": "4c1c89c6",
   "metadata": {},
   "source": [
    "### exercise 4:\n",
    "Compute: Accuracy, true positive rate, false positive rate, true negative rate, false negative rate, precision, recall, f1-score, and support."
   ]
  },
  {
   "cell_type": "code",
   "execution_count": 10,
   "id": "9bf299cc",
   "metadata": {},
   "outputs": [
    {
     "data": {
      "text/html": [
       "<div>\n",
       "<style scoped>\n",
       "    .dataframe tbody tr th:only-of-type {\n",
       "        vertical-align: middle;\n",
       "    }\n",
       "\n",
       "    .dataframe tbody tr th {\n",
       "        vertical-align: top;\n",
       "    }\n",
       "\n",
       "    .dataframe thead th {\n",
       "        text-align: right;\n",
       "    }\n",
       "</style>\n",
       "<table border=\"1\" class=\"dataframe\">\n",
       "  <thead>\n",
       "    <tr style=\"text-align: right;\">\n",
       "      <th></th>\n",
       "      <th>0</th>\n",
       "      <th>1</th>\n",
       "    </tr>\n",
       "  </thead>\n",
       "  <tbody>\n",
       "    <tr>\n",
       "      <th>p_died</th>\n",
       "      <td>294</td>\n",
       "      <td>67</td>\n",
       "    </tr>\n",
       "    <tr>\n",
       "      <th>p_survived</th>\n",
       "      <td>35</td>\n",
       "      <td>138</td>\n",
       "    </tr>\n",
       "  </tbody>\n",
       "</table>\n",
       "</div>"
      ],
      "text/plain": [
       "              0    1\n",
       "p_died      294   67\n",
       "p_survived   35  138"
      ]
     },
     "execution_count": 10,
     "metadata": {},
     "output_type": "execute_result"
    }
   ],
   "source": [
    "labels = sorted(y_train.unique())\n",
    "results = sorted(['p_died','p_survived'])\n",
    "pd.DataFrame(confusion_matrix(y_train, y_pred), index=labels, columns=results).T"
   ]
  },
  {
   "cell_type": "markdown",
   "id": "ef348490",
   "metadata": {},
   "source": [
    "### exercise 5:\n",
    "Run through steps 2-4 using a different max_depth value."
   ]
  },
  {
   "cell_type": "code",
   "execution_count": 11,
   "id": "412c195a",
   "metadata": {},
   "outputs": [
    {
     "name": "stdout",
     "output_type": "stream",
     "text": [
      "              precision    recall  f1-score   support\n",
      "\n",
      "           0       0.86      0.93      0.89       329\n",
      "           1       0.87      0.75      0.81       205\n",
      "\n",
      "    accuracy                           0.86       534\n",
      "   macro avg       0.86      0.84      0.85       534\n",
      "weighted avg       0.86      0.86      0.86       534\n",
      "\n"
     ]
    },
    {
     "data": {
      "text/plain": [
       "0    329\n",
       "1    205\n",
       "Name: survived, dtype: int64"
      ]
     },
     "execution_count": 11,
     "metadata": {},
     "output_type": "execute_result"
    }
   ],
   "source": [
    "clf2 = DecisionTreeClassifier(max_depth=6, random_state=123)\n",
    "clf2 = clf2.fit(x_train, y_train)\n",
    "y_pred2 = clf2.predict(x_train)\n",
    "y_pred2[0:5]\n",
    "print(classification_report(y_train, y_pred2))\n",
    "\n",
    "train.survived.value_counts()"
   ]
  },
  {
   "cell_type": "markdown",
   "id": "1e7b428d",
   "metadata": {},
   "source": [
    "### exercise 6:\n",
    "Which model performs better on your in-sample data? **clf2 performs better in sample**"
   ]
  },
  {
   "cell_type": "markdown",
   "id": "53f1bfee",
   "metadata": {},
   "source": [
    "### exercise 7:\n",
    "Which model performs best on your out-of-sample data, the validate set?"
   ]
  },
  {
   "cell_type": "code",
   "execution_count": 14,
   "id": "d1977f21",
   "metadata": {},
   "outputs": [
    {
     "name": "stdout",
     "output_type": "stream",
     "text": [
      "              precision    recall  f1-score   support\n",
      "\n",
      "           0       0.80      0.94      0.87       110\n",
      "           1       0.86      0.63      0.73        68\n",
      "\n",
      "    accuracy                           0.82       178\n",
      "   macro avg       0.83      0.78      0.80       178\n",
      "weighted avg       0.83      0.82      0.81       178\n",
      "\n",
      "              precision    recall  f1-score   support\n",
      "\n",
      "           0       0.79      0.88      0.83       110\n",
      "           1       0.76      0.62      0.68        68\n",
      "\n",
      "    accuracy                           0.78       178\n",
      "   macro avg       0.78      0.75      0.76       178\n",
      "weighted avg       0.78      0.78      0.78       178\n",
      "\n"
     ]
    }
   ],
   "source": [
    "y_pred = clf.predict(x_validate)\n",
    "y_pred2 = clf2.predict(x_validate)\n",
    "\n",
    "print(classification_report(y_validate, y_pred))\n",
    "print(classification_report(y_validate, y_pred2))"
   ]
  },
  {
   "cell_type": "markdown",
   "id": "f324e96f",
   "metadata": {},
   "source": [
    "### exercise 8:\n",
    "Work through these same exercises using the Telco dataset."
   ]
  },
  {
   "cell_type": "code",
   "execution_count": 46,
   "id": "205b9050",
   "metadata": {},
   "outputs": [],
   "source": [
    "telco = acquire.get_telco_data()\n",
    "telco = telco[telco.total_charges != ' ']\n",
    "train,validate,test = prepare.prep_telco(telco)"
   ]
  },
  {
   "cell_type": "code",
   "execution_count": 47,
   "id": "4da88c26",
   "metadata": {},
   "outputs": [
    {
     "data": {
      "text/html": [
       "<div>\n",
       "<style scoped>\n",
       "    .dataframe tbody tr th:only-of-type {\n",
       "        vertical-align: middle;\n",
       "    }\n",
       "\n",
       "    .dataframe tbody tr th {\n",
       "        vertical-align: top;\n",
       "    }\n",
       "\n",
       "    .dataframe thead th {\n",
       "        text-align: right;\n",
       "    }\n",
       "</style>\n",
       "<table border=\"1\" class=\"dataframe\">\n",
       "  <thead>\n",
       "    <tr style=\"text-align: right;\">\n",
       "      <th></th>\n",
       "      <th>senior_citizen</th>\n",
       "      <th>tenure</th>\n",
       "      <th>monthly_charges</th>\n",
       "      <th>total_charges</th>\n",
       "      <th>churn</th>\n",
       "      <th>paperless_billing_Yes</th>\n",
       "      <th>online_security_No internet service</th>\n",
       "      <th>online_security_Yes</th>\n",
       "      <th>online_backup_No internet service</th>\n",
       "      <th>online_backup_Yes</th>\n",
       "      <th>...</th>\n",
       "      <th>phone_service_Yes</th>\n",
       "      <th>tech_support_No internet service</th>\n",
       "      <th>tech_support_Yes</th>\n",
       "      <th>contract_type_One year</th>\n",
       "      <th>contract_type_Two year</th>\n",
       "      <th>internet_service_type_Fiber optic</th>\n",
       "      <th>internet_service_type_None</th>\n",
       "      <th>payment_type_Credit card (automatic)</th>\n",
       "      <th>payment_type_Electronic check</th>\n",
       "      <th>payment_type_Mailed check</th>\n",
       "    </tr>\n",
       "  </thead>\n",
       "  <tbody>\n",
       "    <tr>\n",
       "      <th>3727</th>\n",
       "      <td>0</td>\n",
       "      <td>45</td>\n",
       "      <td>20.35</td>\n",
       "      <td>929.2</td>\n",
       "      <td>No</td>\n",
       "      <td>0</td>\n",
       "      <td>1</td>\n",
       "      <td>0</td>\n",
       "      <td>1</td>\n",
       "      <td>0</td>\n",
       "      <td>...</td>\n",
       "      <td>1</td>\n",
       "      <td>1</td>\n",
       "      <td>0</td>\n",
       "      <td>0</td>\n",
       "      <td>1</td>\n",
       "      <td>0</td>\n",
       "      <td>1</td>\n",
       "      <td>0</td>\n",
       "      <td>0</td>\n",
       "      <td>1</td>\n",
       "    </tr>\n",
       "    <tr>\n",
       "      <th>4271</th>\n",
       "      <td>0</td>\n",
       "      <td>34</td>\n",
       "      <td>20.65</td>\n",
       "      <td>716.4</td>\n",
       "      <td>No</td>\n",
       "      <td>0</td>\n",
       "      <td>1</td>\n",
       "      <td>0</td>\n",
       "      <td>1</td>\n",
       "      <td>0</td>\n",
       "      <td>...</td>\n",
       "      <td>1</td>\n",
       "      <td>1</td>\n",
       "      <td>0</td>\n",
       "      <td>0</td>\n",
       "      <td>0</td>\n",
       "      <td>0</td>\n",
       "      <td>1</td>\n",
       "      <td>0</td>\n",
       "      <td>0</td>\n",
       "      <td>1</td>\n",
       "    </tr>\n",
       "    <tr>\n",
       "      <th>6317</th>\n",
       "      <td>0</td>\n",
       "      <td>15</td>\n",
       "      <td>19.45</td>\n",
       "      <td>340.85</td>\n",
       "      <td>No</td>\n",
       "      <td>1</td>\n",
       "      <td>1</td>\n",
       "      <td>0</td>\n",
       "      <td>1</td>\n",
       "      <td>0</td>\n",
       "      <td>...</td>\n",
       "      <td>1</td>\n",
       "      <td>1</td>\n",
       "      <td>0</td>\n",
       "      <td>0</td>\n",
       "      <td>0</td>\n",
       "      <td>0</td>\n",
       "      <td>1</td>\n",
       "      <td>1</td>\n",
       "      <td>0</td>\n",
       "      <td>0</td>\n",
       "    </tr>\n",
       "    <tr>\n",
       "      <th>489</th>\n",
       "      <td>0</td>\n",
       "      <td>12</td>\n",
       "      <td>61.65</td>\n",
       "      <td>713.75</td>\n",
       "      <td>Yes</td>\n",
       "      <td>1</td>\n",
       "      <td>0</td>\n",
       "      <td>1</td>\n",
       "      <td>0</td>\n",
       "      <td>0</td>\n",
       "      <td>...</td>\n",
       "      <td>1</td>\n",
       "      <td>0</td>\n",
       "      <td>1</td>\n",
       "      <td>0</td>\n",
       "      <td>0</td>\n",
       "      <td>0</td>\n",
       "      <td>0</td>\n",
       "      <td>0</td>\n",
       "      <td>0</td>\n",
       "      <td>1</td>\n",
       "    </tr>\n",
       "    <tr>\n",
       "      <th>3771</th>\n",
       "      <td>0</td>\n",
       "      <td>7</td>\n",
       "      <td>62.80</td>\n",
       "      <td>418.3</td>\n",
       "      <td>No</td>\n",
       "      <td>0</td>\n",
       "      <td>0</td>\n",
       "      <td>0</td>\n",
       "      <td>0</td>\n",
       "      <td>0</td>\n",
       "      <td>...</td>\n",
       "      <td>1</td>\n",
       "      <td>0</td>\n",
       "      <td>1</td>\n",
       "      <td>0</td>\n",
       "      <td>0</td>\n",
       "      <td>0</td>\n",
       "      <td>0</td>\n",
       "      <td>0</td>\n",
       "      <td>0</td>\n",
       "      <td>0</td>\n",
       "    </tr>\n",
       "    <tr>\n",
       "      <th>...</th>\n",
       "      <td>...</td>\n",
       "      <td>...</td>\n",
       "      <td>...</td>\n",
       "      <td>...</td>\n",
       "      <td>...</td>\n",
       "      <td>...</td>\n",
       "      <td>...</td>\n",
       "      <td>...</td>\n",
       "      <td>...</td>\n",
       "      <td>...</td>\n",
       "      <td>...</td>\n",
       "      <td>...</td>\n",
       "      <td>...</td>\n",
       "      <td>...</td>\n",
       "      <td>...</td>\n",
       "      <td>...</td>\n",
       "      <td>...</td>\n",
       "      <td>...</td>\n",
       "      <td>...</td>\n",
       "      <td>...</td>\n",
       "      <td>...</td>\n",
       "    </tr>\n",
       "    <tr>\n",
       "      <th>3658</th>\n",
       "      <td>0</td>\n",
       "      <td>49</td>\n",
       "      <td>35.80</td>\n",
       "      <td>1782</td>\n",
       "      <td>No</td>\n",
       "      <td>1</td>\n",
       "      <td>0</td>\n",
       "      <td>1</td>\n",
       "      <td>0</td>\n",
       "      <td>0</td>\n",
       "      <td>...</td>\n",
       "      <td>0</td>\n",
       "      <td>0</td>\n",
       "      <td>1</td>\n",
       "      <td>1</td>\n",
       "      <td>0</td>\n",
       "      <td>0</td>\n",
       "      <td>0</td>\n",
       "      <td>1</td>\n",
       "      <td>0</td>\n",
       "      <td>0</td>\n",
       "    </tr>\n",
       "    <tr>\n",
       "      <th>275</th>\n",
       "      <td>1</td>\n",
       "      <td>54</td>\n",
       "      <td>101.50</td>\n",
       "      <td>5373.1</td>\n",
       "      <td>Yes</td>\n",
       "      <td>1</td>\n",
       "      <td>0</td>\n",
       "      <td>0</td>\n",
       "      <td>0</td>\n",
       "      <td>1</td>\n",
       "      <td>...</td>\n",
       "      <td>1</td>\n",
       "      <td>0</td>\n",
       "      <td>0</td>\n",
       "      <td>1</td>\n",
       "      <td>0</td>\n",
       "      <td>1</td>\n",
       "      <td>0</td>\n",
       "      <td>1</td>\n",
       "      <td>0</td>\n",
       "      <td>0</td>\n",
       "    </tr>\n",
       "    <tr>\n",
       "      <th>3465</th>\n",
       "      <td>0</td>\n",
       "      <td>1</td>\n",
       "      <td>94.60</td>\n",
       "      <td>94.6</td>\n",
       "      <td>Yes</td>\n",
       "      <td>1</td>\n",
       "      <td>0</td>\n",
       "      <td>0</td>\n",
       "      <td>0</td>\n",
       "      <td>0</td>\n",
       "      <td>...</td>\n",
       "      <td>1</td>\n",
       "      <td>0</td>\n",
       "      <td>0</td>\n",
       "      <td>0</td>\n",
       "      <td>0</td>\n",
       "      <td>1</td>\n",
       "      <td>0</td>\n",
       "      <td>0</td>\n",
       "      <td>1</td>\n",
       "      <td>0</td>\n",
       "    </tr>\n",
       "    <tr>\n",
       "      <th>3444</th>\n",
       "      <td>0</td>\n",
       "      <td>22</td>\n",
       "      <td>25.25</td>\n",
       "      <td>555.4</td>\n",
       "      <td>No</td>\n",
       "      <td>0</td>\n",
       "      <td>1</td>\n",
       "      <td>0</td>\n",
       "      <td>1</td>\n",
       "      <td>0</td>\n",
       "      <td>...</td>\n",
       "      <td>1</td>\n",
       "      <td>1</td>\n",
       "      <td>0</td>\n",
       "      <td>0</td>\n",
       "      <td>1</td>\n",
       "      <td>0</td>\n",
       "      <td>1</td>\n",
       "      <td>1</td>\n",
       "      <td>0</td>\n",
       "      <td>0</td>\n",
       "    </tr>\n",
       "    <tr>\n",
       "      <th>1002</th>\n",
       "      <td>0</td>\n",
       "      <td>22</td>\n",
       "      <td>89.10</td>\n",
       "      <td>1949.4</td>\n",
       "      <td>No</td>\n",
       "      <td>1</td>\n",
       "      <td>0</td>\n",
       "      <td>0</td>\n",
       "      <td>0</td>\n",
       "      <td>1</td>\n",
       "      <td>...</td>\n",
       "      <td>1</td>\n",
       "      <td>0</td>\n",
       "      <td>0</td>\n",
       "      <td>0</td>\n",
       "      <td>0</td>\n",
       "      <td>1</td>\n",
       "      <td>0</td>\n",
       "      <td>1</td>\n",
       "      <td>0</td>\n",
       "      <td>0</td>\n",
       "    </tr>\n",
       "  </tbody>\n",
       "</table>\n",
       "<p>4218 rows × 31 columns</p>\n",
       "</div>"
      ],
      "text/plain": [
       "      senior_citizen  tenure  monthly_charges total_charges churn  \\\n",
       "3727               0      45            20.35         929.2    No   \n",
       "4271               0      34            20.65         716.4    No   \n",
       "6317               0      15            19.45        340.85    No   \n",
       "489                0      12            61.65        713.75   Yes   \n",
       "3771               0       7            62.80         418.3    No   \n",
       "...              ...     ...              ...           ...   ...   \n",
       "3658               0      49            35.80          1782    No   \n",
       "275                1      54           101.50        5373.1   Yes   \n",
       "3465               0       1            94.60          94.6   Yes   \n",
       "3444               0      22            25.25         555.4    No   \n",
       "1002               0      22            89.10        1949.4    No   \n",
       "\n",
       "      paperless_billing_Yes  online_security_No internet service  \\\n",
       "3727                      0                                    1   \n",
       "4271                      0                                    1   \n",
       "6317                      1                                    1   \n",
       "489                       1                                    0   \n",
       "3771                      0                                    0   \n",
       "...                     ...                                  ...   \n",
       "3658                      1                                    0   \n",
       "275                       1                                    0   \n",
       "3465                      1                                    0   \n",
       "3444                      0                                    1   \n",
       "1002                      1                                    0   \n",
       "\n",
       "      online_security_Yes  online_backup_No internet service  \\\n",
       "3727                    0                                  1   \n",
       "4271                    0                                  1   \n",
       "6317                    0                                  1   \n",
       "489                     1                                  0   \n",
       "3771                    0                                  0   \n",
       "...                   ...                                ...   \n",
       "3658                    1                                  0   \n",
       "275                     0                                  0   \n",
       "3465                    0                                  0   \n",
       "3444                    0                                  1   \n",
       "1002                    0                                  0   \n",
       "\n",
       "      online_backup_Yes  ...  phone_service_Yes  \\\n",
       "3727                  0  ...                  1   \n",
       "4271                  0  ...                  1   \n",
       "6317                  0  ...                  1   \n",
       "489                   0  ...                  1   \n",
       "3771                  0  ...                  1   \n",
       "...                 ...  ...                ...   \n",
       "3658                  0  ...                  0   \n",
       "275                   1  ...                  1   \n",
       "3465                  0  ...                  1   \n",
       "3444                  0  ...                  1   \n",
       "1002                  1  ...                  1   \n",
       "\n",
       "      tech_support_No internet service  tech_support_Yes  \\\n",
       "3727                                 1                 0   \n",
       "4271                                 1                 0   \n",
       "6317                                 1                 0   \n",
       "489                                  0                 1   \n",
       "3771                                 0                 1   \n",
       "...                                ...               ...   \n",
       "3658                                 0                 1   \n",
       "275                                  0                 0   \n",
       "3465                                 0                 0   \n",
       "3444                                 1                 0   \n",
       "1002                                 0                 0   \n",
       "\n",
       "      contract_type_One year  contract_type_Two year  \\\n",
       "3727                       0                       1   \n",
       "4271                       0                       0   \n",
       "6317                       0                       0   \n",
       "489                        0                       0   \n",
       "3771                       0                       0   \n",
       "...                      ...                     ...   \n",
       "3658                       1                       0   \n",
       "275                        1                       0   \n",
       "3465                       0                       0   \n",
       "3444                       0                       1   \n",
       "1002                       0                       0   \n",
       "\n",
       "      internet_service_type_Fiber optic  internet_service_type_None  \\\n",
       "3727                                  0                           1   \n",
       "4271                                  0                           1   \n",
       "6317                                  0                           1   \n",
       "489                                   0                           0   \n",
       "3771                                  0                           0   \n",
       "...                                 ...                         ...   \n",
       "3658                                  0                           0   \n",
       "275                                   1                           0   \n",
       "3465                                  1                           0   \n",
       "3444                                  0                           1   \n",
       "1002                                  1                           0   \n",
       "\n",
       "      payment_type_Credit card (automatic)  payment_type_Electronic check  \\\n",
       "3727                                     0                              0   \n",
       "4271                                     0                              0   \n",
       "6317                                     1                              0   \n",
       "489                                      0                              0   \n",
       "3771                                     0                              0   \n",
       "...                                    ...                            ...   \n",
       "3658                                     1                              0   \n",
       "275                                      1                              0   \n",
       "3465                                     0                              1   \n",
       "3444                                     1                              0   \n",
       "1002                                     1                              0   \n",
       "\n",
       "      payment_type_Mailed check  \n",
       "3727                          1  \n",
       "4271                          1  \n",
       "6317                          0  \n",
       "489                           1  \n",
       "3771                          0  \n",
       "...                         ...  \n",
       "3658                          0  \n",
       "275                           0  \n",
       "3465                          0  \n",
       "3444                          0  \n",
       "1002                          0  \n",
       "\n",
       "[4218 rows x 31 columns]"
      ]
     },
     "execution_count": 47,
     "metadata": {},
     "output_type": "execute_result"
    }
   ],
   "source": [
    "train"
   ]
  },
  {
   "cell_type": "code",
   "execution_count": 33,
   "id": "71a2b178",
   "metadata": {},
   "outputs": [],
   "source": [
    "train = train[train.total_charges != ' ']\n",
    "\n"
   ]
  },
  {
   "cell_type": "code",
   "execution_count": 49,
   "id": "37bff95a",
   "metadata": {},
   "outputs": [],
   "source": [
    "x_train = train.drop(columns=['churn'])\n",
    "y_train = train['churn']\n",
    "\n",
    "x_validate = validate.drop(columns=['churn'])\n",
    "y_validate = validate['churn']\n",
    "\n",
    "x_test = test.drop(columns=['churn'])\n",
    "y_test = test['churn']"
   ]
  },
  {
   "cell_type": "code",
   "execution_count": 50,
   "id": "62e23e7b",
   "metadata": {
    "scrolled": true
   },
   "outputs": [
    {
     "name": "stdout",
     "output_type": "stream",
     "text": [
      "              precision    recall  f1-score   support\n",
      "\n",
      "          No       0.86      0.87      0.87      3097\n",
      "         Yes       0.63      0.62      0.63      1121\n",
      "\n",
      "    accuracy                           0.80      4218\n",
      "   macro avg       0.75      0.75      0.75      4218\n",
      "weighted avg       0.80      0.80      0.80      4218\n",
      "\n",
      "              precision    recall  f1-score   support\n",
      "\n",
      "          No       0.85      0.84      0.85      1033\n",
      "         Yes       0.58      0.60      0.59       374\n",
      "\n",
      "    accuracy                           0.78      1407\n",
      "   macro avg       0.71      0.72      0.72      1407\n",
      "weighted avg       0.78      0.78      0.78      1407\n",
      "\n"
     ]
    }
   ],
   "source": [
    "clf = DecisionTreeClassifier(max_depth=5,random_state=123)\n",
    "clf = clf.fit(x_train,y_train)\n",
    "y_pred = clf.predict(x_train)\n",
    "print(classification_report(y_train,y_pred))\n",
    "y_pred = clf.predict(x_validate)\n",
    "print(classification_report(y_validate,y_pred))"
   ]
  },
  {
   "cell_type": "markdown",
   "id": "891567ff",
   "metadata": {},
   "source": [
    "## Random Forest\n",
    "### exercise 1:\n",
    "Fit the Random Forest classifier to your training sample and transform (i.e. make predictions on the training sample) setting the random_state accordingly and setting min_samples_leaf = 1 and max_depth = 10."
   ]
  },
  {
   "cell_type": "code",
   "execution_count": 76,
   "id": "4b32e4fa",
   "metadata": {},
   "outputs": [],
   "source": [
    "rf1 = RandomForestClassifier(min_samples_leaf=1, max_depth=10, random_state=123)\n",
    "rf1 = rf1.fit(x_train,y_train)\n",
    "y_pred = rf1.predict(x_train)"
   ]
  },
  {
   "cell_type": "markdown",
   "id": "ea7bcee4",
   "metadata": {},
   "source": [
    "### exercise 2:\n",
    "\n",
    "Evaluate your results using the model score, confusion matrix, and classification report."
   ]
  },
  {
   "cell_type": "code",
   "execution_count": 77,
   "id": "1453446c",
   "metadata": {},
   "outputs": [
    {
     "name": "stdout",
     "output_type": "stream",
     "text": [
      "Accuracy of random forest classifier on test set: 0.93\n",
      "              precision    recall  f1-score   support\n",
      "\n",
      "           0       0.93      0.96      0.94       329\n",
      "           1       0.93      0.88      0.90       205\n",
      "\n",
      "    accuracy                           0.93       534\n",
      "   macro avg       0.93      0.92      0.92       534\n",
      "weighted avg       0.93      0.93      0.93       534\n",
      "\n",
      "[[316  13]\n",
      " [ 25 180]]\n"
     ]
    }
   ],
   "source": [
    "print('Accuracy of random forest classifier on test set: {:.2f}'\n",
    "     .format(rf1.score(x_train, y_train)))\n",
    "print(classification_report(y_train,y_pred))\n",
    "print(confusion_matrix(y_train,y_pred))"
   ]
  },
  {
   "cell_type": "markdown",
   "id": "72e38fcf",
   "metadata": {},
   "source": [
    "### exercise 3:\n",
    "Print and clearly label the following: Accuracy, true positive rate, false positive rate, true negative rate, false negative rate, precision, recall, f1-score, and support."
   ]
  },
  {
   "cell_type": "code",
   "execution_count": 74,
   "id": "19b1bc18",
   "metadata": {},
   "outputs": [],
   "source": [
    "def test_stats(train, pred):\n",
    "    TN, FP, FN, TP = confusion_matrix(train, pred).ravel()\n",
    "\n",
    "    ALL = TP + FP + FN + TN\n",
    "\n",
    "    accuracy = (TP + TN)/ALL\n",
    "    true_positive_rate = sensitivity = recall = power = TP/(TP+FN)\n",
    "    false_positive_rate = false_alarm_ratio = fallout = FP/(FP+TN)\n",
    "    true_negative_rate = specificity = selectivity = TN/(TN+FP)\n",
    "    false_negative_rate = miss_rate = FN/(FN+TP)\n",
    "    precision = PPV = TP/(TP+FP)\n",
    "    f1_score = 2*(precision*recall)/(precision+recall)\n",
    "    support_pos = TP + FN\n",
    "    support_neg = FP + TN\n",
    "\n",
    "    print(f\"Accuracy: {accuracy}\", '\\n')\n",
    "    print(f\"True Positive Rate/Sensitivity/Recall/Power: {true_positive_rate}\", '\\n')\n",
    "    print(f\"False Positive Rate/False Alarm Ratio/Fall-out: {false_positive_rate}\", '\\n')\n",
    "    print(f\"True Negative Rate/Specificity/Selectivity: {true_negative_rate}\", '\\n')\n",
    "    print(f\"False Negative Rate/Miss Rate: {false_negative_rate}\", '\\n')\n",
    "    print(f\"Precision/PPV: {precision}\", '\\n')\n",
    "    print(f\"F1 Score: {f1_score}\", '\\n')\n",
    "    print(f\"Support (0): {support_neg}\", '\\n')\n",
    "    print(f\"Support (1): {support_pos}\")\n"
   ]
  },
  {
   "cell_type": "code",
   "execution_count": 78,
   "id": "026d702b",
   "metadata": {},
   "outputs": [
    {
     "name": "stdout",
     "output_type": "stream",
     "text": [
      "Accuracy: 0.9288389513108615 \n",
      "\n",
      "True Positive Rate/Sensitivity/Recall/Power: 0.8780487804878049 \n",
      "\n",
      "False Positive Rate/False Alarm Ratio/Fall-out: 0.03951367781155015 \n",
      "\n",
      "True Negative Rate/Specificity/Selectivity: 0.9604863221884499 \n",
      "\n",
      "False Negative Rate/Miss Rate: 0.12195121951219512 \n",
      "\n",
      "Precision/PPV: 0.9326424870466321 \n",
      "\n",
      "F1 Score: 0.9045226130653267 \n",
      "\n",
      "Support (0): 329 \n",
      "\n",
      "Support (1): 205\n"
     ]
    }
   ],
   "source": [
    "test_stats(y_train,y_pred)"
   ]
  },
  {
   "cell_type": "markdown",
   "id": "4c851123",
   "metadata": {},
   "source": [
    "### exercise 4:\n",
    "Run through steps increasing your min_samples_leaf and decreasing your max_depth."
   ]
  },
  {
   "cell_type": "code",
   "execution_count": 79,
   "id": "ee5b26b8",
   "metadata": {},
   "outputs": [],
   "source": [
    "rf2 = RandomForestClassifier(min_samples_leaf=5, max_depth=5, random_state=123)\n",
    "rf2 = rf2.fit(x_train,y_train)\n",
    "y_pred = rf2.predict(x_train)"
   ]
  },
  {
   "cell_type": "code",
   "execution_count": 80,
   "id": "2c7a8af3",
   "metadata": {
    "scrolled": true
   },
   "outputs": [
    {
     "name": "stdout",
     "output_type": "stream",
     "text": [
      "Accuracy of random forest classifier on test set: 0.85\n",
      "              precision    recall  f1-score   support\n",
      "\n",
      "           0       0.83      0.94      0.88       329\n",
      "           1       0.88      0.70      0.78       205\n",
      "\n",
      "    accuracy                           0.85       534\n",
      "   macro avg       0.86      0.82      0.83       534\n",
      "weighted avg       0.85      0.85      0.84       534\n",
      "\n",
      "[[310  19]\n",
      " [ 62 143]]\n"
     ]
    }
   ],
   "source": [
    "print('Accuracy of random forest classifier on test set: {:.2f}'\n",
    "     .format(rf2.score(x_train, y_train)))\n",
    "print(classification_report(y_train,y_pred))\n",
    "print(confusion_matrix(y_train,y_pred))"
   ]
  },
  {
   "cell_type": "code",
   "execution_count": 81,
   "id": "4ee21a8f",
   "metadata": {},
   "outputs": [
    {
     "name": "stdout",
     "output_type": "stream",
     "text": [
      "Accuracy: 0.848314606741573 \n",
      "\n",
      "True Positive Rate/Sensitivity/Recall/Power: 0.697560975609756 \n",
      "\n",
      "False Positive Rate/False Alarm Ratio/Fall-out: 0.057750759878419454 \n",
      "\n",
      "True Negative Rate/Specificity/Selectivity: 0.9422492401215805 \n",
      "\n",
      "False Negative Rate/Miss Rate: 0.3024390243902439 \n",
      "\n",
      "Precision/PPV: 0.8827160493827161 \n",
      "\n",
      "F1 Score: 0.779291553133515 \n",
      "\n",
      "Support (0): 329 \n",
      "\n",
      "Support (1): 205\n"
     ]
    }
   ],
   "source": [
    "test_stats(y_train,y_pred)"
   ]
  },
  {
   "cell_type": "markdown",
   "id": "84986be5",
   "metadata": {},
   "source": [
    "### exercise 5:\n",
    "What are the differences in the evaluation metrics? **in rf1 the min_samples_leaf was 1, and the max_depth was 10. but in rf2 they were both set to 5.**\n",
    "\n",
    "Which performs better on your in-sample data? **rf1 performed better on in sample data.**\n",
    "\n",
    "Why? **the decision trees themselves were more robust in rf1**"
   ]
  },
  {
   "cell_type": "markdown",
   "id": "7830efa9",
   "metadata": {},
   "source": [
    "### looping thorugh different models:\n"
   ]
  },
  {
   "cell_type": "code",
   "execution_count": 117,
   "id": "5dddd696",
   "metadata": {},
   "outputs": [
    {
     "data": {
      "text/html": [
       "<div>\n",
       "<style scoped>\n",
       "    .dataframe tbody tr th:only-of-type {\n",
       "        vertical-align: middle;\n",
       "    }\n",
       "\n",
       "    .dataframe tbody tr th {\n",
       "        vertical-align: top;\n",
       "    }\n",
       "\n",
       "    .dataframe thead th {\n",
       "        text-align: right;\n",
       "    }\n",
       "</style>\n",
       "<table border=\"1\" class=\"dataframe\">\n",
       "  <thead>\n",
       "    <tr style=\"text-align: right;\">\n",
       "      <th></th>\n",
       "      <th>min_sample_leaf</th>\n",
       "      <th>max_depth</th>\n",
       "      <th>train_accuracy</th>\n",
       "      <th>validate_accuracy</th>\n",
       "      <th>difference</th>\n",
       "    </tr>\n",
       "  </thead>\n",
       "  <tbody>\n",
       "    <tr>\n",
       "      <th>0</th>\n",
       "      <td>1</td>\n",
       "      <td>20</td>\n",
       "      <td>0.934457</td>\n",
       "      <td>0.803371</td>\n",
       "      <td>0.131086</td>\n",
       "    </tr>\n",
       "    <tr>\n",
       "      <th>1</th>\n",
       "      <td>2</td>\n",
       "      <td>19</td>\n",
       "      <td>0.883895</td>\n",
       "      <td>0.808989</td>\n",
       "      <td>0.074906</td>\n",
       "    </tr>\n",
       "    <tr>\n",
       "      <th>2</th>\n",
       "      <td>3</td>\n",
       "      <td>18</td>\n",
       "      <td>0.876404</td>\n",
       "      <td>0.786517</td>\n",
       "      <td>0.089888</td>\n",
       "    </tr>\n",
       "    <tr>\n",
       "      <th>3</th>\n",
       "      <td>4</td>\n",
       "      <td>17</td>\n",
       "      <td>0.853933</td>\n",
       "      <td>0.780899</td>\n",
       "      <td>0.073034</td>\n",
       "    </tr>\n",
       "    <tr>\n",
       "      <th>4</th>\n",
       "      <td>5</td>\n",
       "      <td>16</td>\n",
       "      <td>0.857678</td>\n",
       "      <td>0.797753</td>\n",
       "      <td>0.059925</td>\n",
       "    </tr>\n",
       "    <tr>\n",
       "      <th>5</th>\n",
       "      <td>6</td>\n",
       "      <td>15</td>\n",
       "      <td>0.837079</td>\n",
       "      <td>0.808989</td>\n",
       "      <td>0.028090</td>\n",
       "    </tr>\n",
       "    <tr>\n",
       "      <th>6</th>\n",
       "      <td>7</td>\n",
       "      <td>14</td>\n",
       "      <td>0.838951</td>\n",
       "      <td>0.803371</td>\n",
       "      <td>0.035581</td>\n",
       "    </tr>\n",
       "    <tr>\n",
       "      <th>7</th>\n",
       "      <td>8</td>\n",
       "      <td>13</td>\n",
       "      <td>0.840824</td>\n",
       "      <td>0.797753</td>\n",
       "      <td>0.043071</td>\n",
       "    </tr>\n",
       "    <tr>\n",
       "      <th>8</th>\n",
       "      <td>9</td>\n",
       "      <td>12</td>\n",
       "      <td>0.825843</td>\n",
       "      <td>0.792135</td>\n",
       "      <td>0.033708</td>\n",
       "    </tr>\n",
       "    <tr>\n",
       "      <th>9</th>\n",
       "      <td>10</td>\n",
       "      <td>11</td>\n",
       "      <td>0.827715</td>\n",
       "      <td>0.797753</td>\n",
       "      <td>0.029963</td>\n",
       "    </tr>\n",
       "    <tr>\n",
       "      <th>10</th>\n",
       "      <td>11</td>\n",
       "      <td>10</td>\n",
       "      <td>0.823970</td>\n",
       "      <td>0.792135</td>\n",
       "      <td>0.031835</td>\n",
       "    </tr>\n",
       "    <tr>\n",
       "      <th>11</th>\n",
       "      <td>12</td>\n",
       "      <td>9</td>\n",
       "      <td>0.829588</td>\n",
       "      <td>0.792135</td>\n",
       "      <td>0.037453</td>\n",
       "    </tr>\n",
       "    <tr>\n",
       "      <th>12</th>\n",
       "      <td>13</td>\n",
       "      <td>8</td>\n",
       "      <td>0.827715</td>\n",
       "      <td>0.797753</td>\n",
       "      <td>0.029963</td>\n",
       "    </tr>\n",
       "    <tr>\n",
       "      <th>13</th>\n",
       "      <td>14</td>\n",
       "      <td>7</td>\n",
       "      <td>0.825843</td>\n",
       "      <td>0.797753</td>\n",
       "      <td>0.028090</td>\n",
       "    </tr>\n",
       "    <tr>\n",
       "      <th>14</th>\n",
       "      <td>15</td>\n",
       "      <td>6</td>\n",
       "      <td>0.823970</td>\n",
       "      <td>0.792135</td>\n",
       "      <td>0.031835</td>\n",
       "    </tr>\n",
       "    <tr>\n",
       "      <th>15</th>\n",
       "      <td>16</td>\n",
       "      <td>5</td>\n",
       "      <td>0.825843</td>\n",
       "      <td>0.803371</td>\n",
       "      <td>0.022472</td>\n",
       "    </tr>\n",
       "    <tr>\n",
       "      <th>16</th>\n",
       "      <td>17</td>\n",
       "      <td>4</td>\n",
       "      <td>0.816479</td>\n",
       "      <td>0.797753</td>\n",
       "      <td>0.018727</td>\n",
       "    </tr>\n",
       "    <tr>\n",
       "      <th>17</th>\n",
       "      <td>18</td>\n",
       "      <td>3</td>\n",
       "      <td>0.818352</td>\n",
       "      <td>0.797753</td>\n",
       "      <td>0.020599</td>\n",
       "    </tr>\n",
       "    <tr>\n",
       "      <th>18</th>\n",
       "      <td>19</td>\n",
       "      <td>2</td>\n",
       "      <td>0.799625</td>\n",
       "      <td>0.797753</td>\n",
       "      <td>0.001873</td>\n",
       "    </tr>\n",
       "    <tr>\n",
       "      <th>19</th>\n",
       "      <td>20</td>\n",
       "      <td>1</td>\n",
       "      <td>0.760300</td>\n",
       "      <td>0.769663</td>\n",
       "      <td>-0.009363</td>\n",
       "    </tr>\n",
       "  </tbody>\n",
       "</table>\n",
       "</div>"
      ],
      "text/plain": [
       "    min_sample_leaf  max_depth  train_accuracy  validate_accuracy  difference\n",
       "0                 1         20        0.934457           0.803371    0.131086\n",
       "1                 2         19        0.883895           0.808989    0.074906\n",
       "2                 3         18        0.876404           0.786517    0.089888\n",
       "3                 4         17        0.853933           0.780899    0.073034\n",
       "4                 5         16        0.857678           0.797753    0.059925\n",
       "5                 6         15        0.837079           0.808989    0.028090\n",
       "6                 7         14        0.838951           0.803371    0.035581\n",
       "7                 8         13        0.840824           0.797753    0.043071\n",
       "8                 9         12        0.825843           0.792135    0.033708\n",
       "9                10         11        0.827715           0.797753    0.029963\n",
       "10               11         10        0.823970           0.792135    0.031835\n",
       "11               12          9        0.829588           0.792135    0.037453\n",
       "12               13          8        0.827715           0.797753    0.029963\n",
       "13               14          7        0.825843           0.797753    0.028090\n",
       "14               15          6        0.823970           0.792135    0.031835\n",
       "15               16          5        0.825843           0.803371    0.022472\n",
       "16               17          4        0.816479           0.797753    0.018727\n",
       "17               18          3        0.818352           0.797753    0.020599\n",
       "18               19          2        0.799625           0.797753    0.001873\n",
       "19               20          1        0.760300           0.769663   -0.009363"
      ]
     },
     "execution_count": 117,
     "metadata": {},
     "output_type": "execute_result"
    }
   ],
   "source": [
    "performance=[]\n",
    "for i in range(1,21):\n",
    "    model = RandomForestClassifier(min_samples_leaf=i, max_depth=(21-i), random_state=123)\n",
    "    model = model.fit(x_train,y_train)\n",
    "    in_sample_accuracy = model.score(x_train, y_train)\n",
    "    out_of_sample_accuracy = model.score(x_validate, y_validate)\n",
    "    output = {\n",
    "        \"min_sample_leaf\": i,\n",
    "        \"max_depth\": (21-i),\n",
    "        \"train_accuracy\": in_sample_accuracy,\n",
    "        \"validate_accuracy\": out_of_sample_accuracy\n",
    "    }\n",
    "    performance.append(output)\n",
    "df = pd.DataFrame(performance)\n",
    "df[\"difference\"] = df.train_accuracy - df.validate_accuracy\n",
    "df"
   ]
  },
  {
   "cell_type": "code",
   "execution_count": 118,
   "id": "4acb34d9",
   "metadata": {},
   "outputs": [
    {
     "data": {
      "image/png": "[encoded data removed]",
      "text/plain": [
       "<Figure size 864x432 with 1 Axes>"
      ]
     },
     "metadata": {
      "needs_background": "light"
     },
     "output_type": "display_data"
    }
   ],
   "source": [
    "plt.figure(figsize=(12, 6))\n",
    "plt.plot(df.max_depth, df.train_accuracy, marker = 'o')\n",
    "plt.plot(df.max_depth, df.validate_accuracy, marker = 'o')\n",
    "plt.xlabel('Max Depth')\n",
    "plt.ylabel('Accuracy')\n",
    "plt.show()"
   ]
  },
  {
   "cell_type": "markdown",
   "id": "b639c2ac",
   "metadata": {},
   "source": [
    "### Final question:\n",
    "\n",
    "After making a few models, which one has the best performance (or closest metrics) on both train and validate?**a model with a max depth of 2 and minimum sample leaf of 19 produced the closest results with a 0.1% drop-off from the train set to the validate set.**"
   ]
  },
  {
   "cell_type": "markdown",
   "id": "cb3c6115",
   "metadata": {},
   "source": [
    "## kNN\n",
    "### exercise 1:\n",
    "Fit a K-Nearest Neighbors classifier to your training sample and transform (i.e. make predictions on the training sample)"
   ]
  },
  {
   "cell_type": "code",
   "execution_count": 120,
   "id": "009ccb72",
   "metadata": {},
   "outputs": [
    {
     "name": "stdout",
     "output_type": "stream",
     "text": [
      "<class 'pandas.core.frame.DataFrame'>\n",
      "Int64Index: 891 entries, 0 to 890\n",
      "Data columns (total 13 columns):\n",
      " #   Column        Non-Null Count  Dtype  \n",
      "---  ------        --------------  -----  \n",
      " 0   passenger_id  891 non-null    int64  \n",
      " 1   survived      891 non-null    int64  \n",
      " 2   pclass        891 non-null    int64  \n",
      " 3   sex           891 non-null    object \n",
      " 4   age           714 non-null    float64\n",
      " 5   sibsp         891 non-null    int64  \n",
      " 6   parch         891 non-null    int64  \n",
      " 7   fare          891 non-null    float64\n",
      " 8   embarked      889 non-null    object \n",
      " 9   class         891 non-null    object \n",
      " 10  deck          203 non-null    object \n",
      " 11  embark_town   889 non-null    object \n",
      " 12  alone         891 non-null    int64  \n",
      "dtypes: float64(2), int64(6), object(5)\n",
      "memory usage: 97.5+ KB\n"
     ]
    }
   ],
   "source": [
    "df = acquire.get_titanic_data()\n",
    "df.info()"
   ]
  },
  {
   "cell_type": "code",
   "execution_count": 132,
   "id": "055acf76",
   "metadata": {},
   "outputs": [
    {
     "data": {
      "text/plain": [
       "534"
      ]
     },
     "execution_count": 132,
     "metadata": {},
     "output_type": "execute_result"
    },
    {
     "data": {
      "image/png": "[encoded data removed]",
      "text/plain": [
       "<Figure size 1490.88x1440 with 72 Axes>"
      ]
     },
     "metadata": {
      "needs_background": "light"
     },
     "output_type": "display_data"
    }
   ],
   "source": [
    "train,validate,test = prepare.prep_titanic(df)\n",
    "sns.pairplot(data=train, hue='survived')\n",
    "len(train)"
   ]
  },
  {
   "cell_type": "code",
   "execution_count": 133,
   "id": "74dbbac1",
   "metadata": {},
   "outputs": [],
   "source": [
    "X_train = train.drop(columns=['survived','sibsp','parch','fare','embark_town_Queenstown'])\n",
    "y_train = train.survived\n",
    "\n",
    "X_validate = validate.drop(columns=['survived','sibsp','parch','fare','embark_town_Queenstown'])\n",
    "y_validate = validate.survived\n",
    "\n",
    "X_test = test.drop(columns=['survived','sibsp','parch','fare','embark_town_Queenstown'])\n",
    "y_test = test.survived\n",
    "\n",
    "\n",
    "knn5 = KNeighborsClassifier(n_neighbors=5, weights='uniform')\n",
    "knn5 = knn5.fit(x_train,y_train)\n",
    "y_pred = knn5.predict(x_train)"
   ]
  },
  {
   "cell_type": "markdown",
   "id": "4d9fa1c0",
   "metadata": {},
   "source": [
    "### exercise 2:\n",
    "\n",
    "Evaluate your results using the model score, confusion matrix, and classification report."
   ]
  },
  {
   "cell_type": "code",
   "execution_count": 134,
   "id": "47e0ca14",
   "metadata": {},
   "outputs": [
    {
     "name": "stdout",
     "output_type": "stream",
     "text": [
      "0.8258426966292135\n",
      "[[290  39]\n",
      " [ 54 151]]\n",
      "              precision    recall  f1-score   support\n",
      "\n",
      "           0       0.84      0.88      0.86       329\n",
      "           1       0.79      0.74      0.76       205\n",
      "\n",
      "    accuracy                           0.83       534\n",
      "   macro avg       0.82      0.81      0.81       534\n",
      "weighted avg       0.82      0.83      0.82       534\n",
      "\n"
     ]
    }
   ],
   "source": [
    "print(knn5.score(x_train,y_train))\n",
    "print(confusion_matrix(y_train,y_pred))\n",
    "print(classification_report(y_train,y_pred))"
   ]
  },
  {
   "cell_type": "markdown",
   "id": "19fa748d",
   "metadata": {},
   "source": [
    "### exercise 3:\n",
    "Print and clearly label the following: Accuracy, true positive rate, false positive rate, true negative rate, false negative rate, precision, recall, f1-score, and support."
   ]
  },
  {
   "cell_type": "code",
   "execution_count": 135,
   "id": "67446b7c",
   "metadata": {},
   "outputs": [
    {
     "name": "stdout",
     "output_type": "stream",
     "text": [
      "Accuracy: 0.8258426966292135 \n",
      "\n",
      "True Positive Rate/Sensitivity/Recall/Power: 0.7365853658536585 \n",
      "\n",
      "False Positive Rate/False Alarm Ratio/Fall-out: 0.11854103343465046 \n",
      "\n",
      "True Negative Rate/Specificity/Selectivity: 0.8814589665653495 \n",
      "\n",
      "False Negative Rate/Miss Rate: 0.2634146341463415 \n",
      "\n",
      "Precision/PPV: 0.7947368421052632 \n",
      "\n",
      "F1 Score: 0.7645569620253164 \n",
      "\n",
      "Support (0): 329 \n",
      "\n",
      "Support (1): 205\n"
     ]
    }
   ],
   "source": [
    "test_stats(y_train,y_pred)"
   ]
  },
  {
   "cell_type": "markdown",
   "id": "fd82ceac",
   "metadata": {},
   "source": [
    "### exercise 4:\n",
    "\n",
    "Run through steps 2-4 setting k to 10"
   ]
  },
  {
   "cell_type": "code",
   "execution_count": 140,
   "id": "446e6c08",
   "metadata": {},
   "outputs": [
    {
     "name": "stdout",
     "output_type": "stream",
     "text": [
      "0.7846441947565543\n",
      "[[281  48]\n",
      " [ 67 138]]\n",
      "              precision    recall  f1-score   support\n",
      "\n",
      "           0       0.81      0.85      0.83       329\n",
      "           1       0.74      0.67      0.71       205\n",
      "\n",
      "    accuracy                           0.78       534\n",
      "   macro avg       0.77      0.76      0.77       534\n",
      "weighted avg       0.78      0.78      0.78       534\n",
      "\n",
      "Accuracy: 0.7846441947565543 \n",
      "\n",
      "True Positive Rate/Sensitivity/Recall/Power: 0.6731707317073171 \n",
      "\n",
      "False Positive Rate/False Alarm Ratio/Fall-out: 0.1458966565349544 \n",
      "\n",
      "True Negative Rate/Specificity/Selectivity: 0.8541033434650456 \n",
      "\n",
      "False Negative Rate/Miss Rate: 0.32682926829268294 \n",
      "\n",
      "Precision/PPV: 0.7419354838709677 \n",
      "\n",
      "F1 Score: 0.7058823529411766 \n",
      "\n",
      "Support (0): 329 \n",
      "\n",
      "Support (1): 205\n"
     ]
    }
   ],
   "source": [
    "knn10 = KNeighborsClassifier(n_neighbors=10,weights='uniform')\n",
    "knn10 = knn10.fit(x_train,y_train)\n",
    "y_pred = knn10.predict(x_train)\n",
    "print(knn10.score(x_train,y_train))\n",
    "print(confusion_matrix(y_train,y_pred))\n",
    "print(classification_report(y_train,y_pred))\n",
    "test_stats(y_train,y_pred)"
   ]
  },
  {
   "cell_type": "markdown",
   "id": "f06201c0",
   "metadata": {},
   "source": [
    "### exercise 5:\n",
    "\n",
    "Run through setps 2-4 setting k to 20\n"
   ]
  },
  {
   "cell_type": "code",
   "execution_count": 141,
   "id": "ebd800eb",
   "metadata": {
    "scrolled": true
   },
   "outputs": [
    {
     "name": "stdout",
     "output_type": "stream",
     "text": [
      "0.7846441947565543\n",
      "[[281  48]\n",
      " [ 67 138]]\n",
      "              precision    recall  f1-score   support\n",
      "\n",
      "           0       0.81      0.85      0.83       329\n",
      "           1       0.74      0.67      0.71       205\n",
      "\n",
      "    accuracy                           0.78       534\n",
      "   macro avg       0.77      0.76      0.77       534\n",
      "weighted avg       0.78      0.78      0.78       534\n",
      "\n",
      "Accuracy: 0.7846441947565543 \n",
      "\n",
      "True Positive Rate/Sensitivity/Recall/Power: 0.6731707317073171 \n",
      "\n",
      "False Positive Rate/False Alarm Ratio/Fall-out: 0.1458966565349544 \n",
      "\n",
      "True Negative Rate/Specificity/Selectivity: 0.8541033434650456 \n",
      "\n",
      "False Negative Rate/Miss Rate: 0.32682926829268294 \n",
      "\n",
      "Precision/PPV: 0.7419354838709677 \n",
      "\n",
      "F1 Score: 0.7058823529411766 \n",
      "\n",
      "Support (0): 329 \n",
      "\n",
      "Support (1): 205\n"
     ]
    }
   ],
   "source": [
    "knn20 = KNeighborsClassifier(n_neighbors=10,weights='uniform')\n",
    "knn20 = knn20.fit(x_train,y_train)\n",
    "y_pred = knn20.predict(x_train)\n",
    "print(knn20.score(x_train,y_train))\n",
    "print(confusion_matrix(y_train,y_pred))\n",
    "print(classification_report(y_train,y_pred))\n",
    "test_stats(y_train,y_pred)"
   ]
  },
  {
   "cell_type": "code",
   "execution_count": 142,
   "id": "309ddb77",
   "metadata": {
    "scrolled": true
   },
   "outputs": [
    {
     "data": {
      "text/html": [
       "<div>\n",
       "<style scoped>\n",
       "    .dataframe tbody tr th:only-of-type {\n",
       "        vertical-align: middle;\n",
       "    }\n",
       "\n",
       "    .dataframe tbody tr th {\n",
       "        vertical-align: top;\n",
       "    }\n",
       "\n",
       "    .dataframe thead th {\n",
       "        text-align: right;\n",
       "    }\n",
       "</style>\n",
       "<table border=\"1\" class=\"dataframe\">\n",
       "  <thead>\n",
       "    <tr style=\"text-align: right;\">\n",
       "      <th></th>\n",
       "      <th>K_nearest_neighbors</th>\n",
       "      <th>train_accuracy</th>\n",
       "      <th>validate_accuracy</th>\n",
       "      <th>difference</th>\n",
       "    </tr>\n",
       "  </thead>\n",
       "  <tbody>\n",
       "    <tr>\n",
       "      <th>0</th>\n",
       "      <td>1</td>\n",
       "      <td>0.846442</td>\n",
       "      <td>0.702247</td>\n",
       "      <td>0.144195</td>\n",
       "    </tr>\n",
       "    <tr>\n",
       "      <th>1</th>\n",
       "      <td>2</td>\n",
       "      <td>0.827715</td>\n",
       "      <td>0.702247</td>\n",
       "      <td>0.125468</td>\n",
       "    </tr>\n",
       "    <tr>\n",
       "      <th>2</th>\n",
       "      <td>3</td>\n",
       "      <td>0.859551</td>\n",
       "      <td>0.764045</td>\n",
       "      <td>0.095506</td>\n",
       "    </tr>\n",
       "    <tr>\n",
       "      <th>3</th>\n",
       "      <td>4</td>\n",
       "      <td>0.820225</td>\n",
       "      <td>0.735955</td>\n",
       "      <td>0.084270</td>\n",
       "    </tr>\n",
       "    <tr>\n",
       "      <th>4</th>\n",
       "      <td>5</td>\n",
       "      <td>0.825843</td>\n",
       "      <td>0.730337</td>\n",
       "      <td>0.095506</td>\n",
       "    </tr>\n",
       "    <tr>\n",
       "      <th>5</th>\n",
       "      <td>6</td>\n",
       "      <td>0.818352</td>\n",
       "      <td>0.713483</td>\n",
       "      <td>0.104869</td>\n",
       "    </tr>\n",
       "    <tr>\n",
       "      <th>6</th>\n",
       "      <td>7</td>\n",
       "      <td>0.807116</td>\n",
       "      <td>0.724719</td>\n",
       "      <td>0.082397</td>\n",
       "    </tr>\n",
       "    <tr>\n",
       "      <th>7</th>\n",
       "      <td>8</td>\n",
       "      <td>0.801498</td>\n",
       "      <td>0.713483</td>\n",
       "      <td>0.088015</td>\n",
       "    </tr>\n",
       "    <tr>\n",
       "      <th>8</th>\n",
       "      <td>9</td>\n",
       "      <td>0.797753</td>\n",
       "      <td>0.696629</td>\n",
       "      <td>0.101124</td>\n",
       "    </tr>\n",
       "    <tr>\n",
       "      <th>9</th>\n",
       "      <td>10</td>\n",
       "      <td>0.784644</td>\n",
       "      <td>0.719101</td>\n",
       "      <td>0.065543</td>\n",
       "    </tr>\n",
       "    <tr>\n",
       "      <th>10</th>\n",
       "      <td>11</td>\n",
       "      <td>0.782772</td>\n",
       "      <td>0.713483</td>\n",
       "      <td>0.069288</td>\n",
       "    </tr>\n",
       "    <tr>\n",
       "      <th>11</th>\n",
       "      <td>12</td>\n",
       "      <td>0.756554</td>\n",
       "      <td>0.679775</td>\n",
       "      <td>0.076779</td>\n",
       "    </tr>\n",
       "    <tr>\n",
       "      <th>12</th>\n",
       "      <td>13</td>\n",
       "      <td>0.752809</td>\n",
       "      <td>0.691011</td>\n",
       "      <td>0.061798</td>\n",
       "    </tr>\n",
       "    <tr>\n",
       "      <th>13</th>\n",
       "      <td>14</td>\n",
       "      <td>0.764045</td>\n",
       "      <td>0.691011</td>\n",
       "      <td>0.073034</td>\n",
       "    </tr>\n",
       "    <tr>\n",
       "      <th>14</th>\n",
       "      <td>15</td>\n",
       "      <td>0.743446</td>\n",
       "      <td>0.691011</td>\n",
       "      <td>0.052434</td>\n",
       "    </tr>\n",
       "    <tr>\n",
       "      <th>15</th>\n",
       "      <td>16</td>\n",
       "      <td>0.747191</td>\n",
       "      <td>0.707865</td>\n",
       "      <td>0.039326</td>\n",
       "    </tr>\n",
       "    <tr>\n",
       "      <th>16</th>\n",
       "      <td>17</td>\n",
       "      <td>0.762172</td>\n",
       "      <td>0.713483</td>\n",
       "      <td>0.048689</td>\n",
       "    </tr>\n",
       "    <tr>\n",
       "      <th>17</th>\n",
       "      <td>18</td>\n",
       "      <td>0.756554</td>\n",
       "      <td>0.719101</td>\n",
       "      <td>0.037453</td>\n",
       "    </tr>\n",
       "    <tr>\n",
       "      <th>18</th>\n",
       "      <td>19</td>\n",
       "      <td>0.760300</td>\n",
       "      <td>0.702247</td>\n",
       "      <td>0.058052</td>\n",
       "    </tr>\n",
       "    <tr>\n",
       "      <th>19</th>\n",
       "      <td>20</td>\n",
       "      <td>0.747191</td>\n",
       "      <td>0.674157</td>\n",
       "      <td>0.073034</td>\n",
       "    </tr>\n",
       "  </tbody>\n",
       "</table>\n",
       "</div>"
      ],
      "text/plain": [
       "    K_nearest_neighbors  train_accuracy  validate_accuracy  difference\n",
       "0                     1        0.846442           0.702247    0.144195\n",
       "1                     2        0.827715           0.702247    0.125468\n",
       "2                     3        0.859551           0.764045    0.095506\n",
       "3                     4        0.820225           0.735955    0.084270\n",
       "4                     5        0.825843           0.730337    0.095506\n",
       "5                     6        0.818352           0.713483    0.104869\n",
       "6                     7        0.807116           0.724719    0.082397\n",
       "7                     8        0.801498           0.713483    0.088015\n",
       "8                     9        0.797753           0.696629    0.101124\n",
       "9                    10        0.784644           0.719101    0.065543\n",
       "10                   11        0.782772           0.713483    0.069288\n",
       "11                   12        0.756554           0.679775    0.076779\n",
       "12                   13        0.752809           0.691011    0.061798\n",
       "13                   14        0.764045           0.691011    0.073034\n",
       "14                   15        0.743446           0.691011    0.052434\n",
       "15                   16        0.747191           0.707865    0.039326\n",
       "16                   17        0.762172           0.713483    0.048689\n",
       "17                   18        0.756554           0.719101    0.037453\n",
       "18                   19        0.760300           0.702247    0.058052\n",
       "19                   20        0.747191           0.674157    0.073034"
      ]
     },
     "execution_count": 142,
     "metadata": {},
     "output_type": "execute_result"
    }
   ],
   "source": [
    "performance=[]\n",
    "for i in range(1,21):\n",
    "    model = KNeighborsClassifier(n_neighbors=i,weights='uniform')\n",
    "    model = model.fit(x_train,y_train)\n",
    "    in_sample_accuracy = model.score(x_train, y_train)\n",
    "    out_of_sample_accuracy = model.score(x_validate, y_validate)\n",
    "    output = {\n",
    "        \"K_nearest_neighbors\": i,\n",
    "        \"train_accuracy\": in_sample_accuracy,\n",
    "        \"validate_accuracy\": out_of_sample_accuracy\n",
    "    }\n",
    "    performance.append(output)\n",
    "df = pd.DataFrame(performance)\n",
    "df[\"difference\"] = df.train_accuracy - df.validate_accuracy\n",
    "df"
   ]
  },
  {
   "cell_type": "code",
   "execution_count": 143,
   "id": "03f38217",
   "metadata": {},
   "outputs": [
    {
     "data": {
      "image/png": "[encoded data removed]",
      "text/plain": [
       "<Figure size 864x432 with 1 Axes>"
      ]
     },
     "metadata": {
      "needs_background": "light"
     },
     "output_type": "display_data"
    }
   ],
   "source": [
    "plt.figure(figsize=(12, 6))\n",
    "plt.plot(df.K_nearest_neighbors, df.train_accuracy, marker = 'o')\n",
    "plt.plot(df.K_nearest_neighbors, df.validate_accuracy, marker = 'o')\n",
    "plt.plot(df.K_nearest_neighbors, df.difference, marker = 'o')\n",
    "plt.xlabel('K_Nearest')\n",
    "plt.ylabel('Accuracy')\n",
    "plt.show()"
   ]
  },
  {
   "cell_type": "markdown",
   "id": "c799e44f",
   "metadata": {},
   "source": [
    "### exercise 6:\n",
    "\n",
    "What are the differences in the evaluation metrics?**knn10 goes by the 10 nearest neighbors amd knn20 goes off the nearest 20** \n",
    "\n",
    "Which performs better on your in-sample data?**10 performed better than 20 on in sample data** \n",
    "\n",
    "Why?**because in most cases it is more likely to have the 10 nearest neighbors all belong to the same group. the higher the number of nearest neighbors the more likely the distribution resembles the overall distribution of the dataset**"
   ]
  },
  {
   "cell_type": "markdown",
   "id": "a05526ec",
   "metadata": {},
   "source": [
    "### exercise 7:\n",
    "\n",
    "Which model performs best on our out-of-sample data from validate?**knn10 performed the best on the out of sample data, and had the least amount of difference**"
   ]
  },
  {
   "cell_type": "markdown",
   "id": "27b0caef",
   "metadata": {},
   "source": [
    "## Logisitic regression\n",
    "\n",
    "In these exercises, we'll continue working with the titanic dataset and building logistic regression models. Throughout this exercise, be sure you are training, evaluation, and comparing models on the train and validate datasets. The test dataset should only be used for your final model.\n",
    "\n",
    "For all of the models you create, choose a threshold that optimizes for accuracy.\n",
    "\n",
    "\n",
    "### exercise 1:\n",
    "Create a model that includes age in addition to fare and pclass. Does this model perform better than your baseline?"
   ]
  },
  {
   "cell_type": "code",
   "execution_count": 31,
   "id": "a5dc615e",
   "metadata": {},
   "outputs": [
    {
     "name": "stdout",
     "output_type": "stream",
     "text": [
      "<class 'pandas.core.frame.DataFrame'>\n",
      "Int64Index: 534 entries, 9 to 780\n",
      "Data columns (total 10 columns):\n",
      " #   Column                   Non-Null Count  Dtype  \n",
      "---  ------                   --------------  -----  \n",
      " 0   survived                 534 non-null    int64  \n",
      " 1   pclass                   534 non-null    int64  \n",
      " 2   age                      534 non-null    float64\n",
      " 3   sibsp                    534 non-null    int64  \n",
      " 4   parch                    534 non-null    int64  \n",
      " 5   fare                     534 non-null    float64\n",
      " 6   alone                    534 non-null    int64  \n",
      " 7   sex_male                 534 non-null    uint8  \n",
      " 8   embark_town_Queenstown   534 non-null    uint8  \n",
      " 9   embark_town_Southampton  534 non-null    uint8  \n",
      "dtypes: float64(2), int64(5), uint8(3)\n",
      "memory usage: 34.9 KB\n"
     ]
    }
   ],
   "source": [
    "df = acquire.get_titanic_data()\n",
    "train,validate,test = prepare.prep_titanic(df)\n",
    "train.info()"
   ]
  },
  {
   "cell_type": "code",
   "execution_count": 45,
   "id": "93de3ff6",
   "metadata": {},
   "outputs": [],
   "source": [
    "x_train= train[['age','fare','pclass']]\n",
    "y_train= train.survived\n",
    "\n",
    "x_validate= validate[['age','fare','pclass']]\n",
    "y_validate= validate.survived\n",
    "\n",
    "x_test= test[['age','fare','pclass']]\n",
    "y_test= test.survived\n",
    "\n",
    "logit = LogisticRegression(C=2, random_state=123, solver='lbfgs')\n",
    "logit = logit.fit(x_train,y_train)"
   ]
  },
  {
   "cell_type": "code",
   "execution_count": 46,
   "id": "a9d2da56",
   "metadata": {},
   "outputs": [
    {
     "name": "stdout",
     "output_type": "stream",
     "text": [
      "0.7059925093632958\n",
      "[[288  41]\n",
      " [116  89]]\n",
      "              precision    recall  f1-score   support\n",
      "\n",
      "           0       0.71      0.88      0.79       329\n",
      "           1       0.68      0.43      0.53       205\n",
      "\n",
      "    accuracy                           0.71       534\n",
      "   macro avg       0.70      0.65      0.66       534\n",
      "weighted avg       0.70      0.71      0.69       534\n",
      "\n"
     ]
    }
   ],
   "source": [
    "y_pred = logit.predict(x_train)\n",
    "print(logit.score(x_train,y_train))\n",
    "print(confusion_matrix(y_train,y_pred))\n",
    "print(classification_report(y_train,y_pred))"
   ]
  },
  {
   "cell_type": "markdown",
   "id": "0a78e55a",
   "metadata": {},
   "source": [
    "Include sex in your model as well. Note that you'll need to encode or create a dummy variable of this feature before including it in a model."
   ]
  },
  {
   "cell_type": "code",
   "execution_count": 47,
   "id": "3caafb95",
   "metadata": {},
   "outputs": [],
   "source": [
    "x_train= train[['age','fare','pclass','sex_male']]\n",
    "y_train= train.survived\n",
    "\n",
    "x_validate= validate[['age','fare','pclass','sex_male']]\n",
    "y_validate= validate.survived\n",
    "\n",
    "x_test= test[['age','fare','pclass','sex_male']]\n",
    "y_test= test.survived\n",
    "\n",
    "logit = LogisticRegression(C=2, random_state=123, solver='lbfgs')\n",
    "logit = logit.fit(x_train,y_train)"
   ]
  },
  {
   "cell_type": "code",
   "execution_count": 48,
   "id": "dd07e35d",
   "metadata": {},
   "outputs": [
    {
     "name": "stdout",
     "output_type": "stream",
     "text": [
      "0.7621722846441947\n",
      "[[268  61]\n",
      " [ 66 139]]\n",
      "              precision    recall  f1-score   support\n",
      "\n",
      "           0       0.80      0.81      0.81       329\n",
      "           1       0.69      0.68      0.69       205\n",
      "\n",
      "    accuracy                           0.76       534\n",
      "   macro avg       0.75      0.75      0.75       534\n",
      "weighted avg       0.76      0.76      0.76       534\n",
      "\n"
     ]
    }
   ],
   "source": [
    "y_pred = logit.predict(x_train)\n",
    "print(logit.score(x_train,y_train))\n",
    "print(confusion_matrix(y_train,y_pred))\n",
    "print(classification_report(y_train,y_pred))"
   ]
  },
  {
   "cell_type": "markdown",
   "id": "6fec2ff9",
   "metadata": {},
   "source": [
    "Try out other combinations of features and models."
   ]
  },
  {
   "cell_type": "markdown",
   "id": "74be99ff",
   "metadata": {},
   "source": [
    "Use you best 3 models to predict and evaluate on your validate sample."
   ]
  },
  {
   "cell_type": "markdown",
   "id": "4401355f",
   "metadata": {},
   "source": [
    "Choose you best model from the validation performation, and evaluate it on the test dataset. How do the performance metrics compare to validate? to train?"
   ]
  }
 ],
 "metadata": {
  "kernelspec": {
   "display_name": "Python 3 (ipykernel)",
   "language": "python",
   "name": "python3"
  },
  "language_info": {
   "codemirror_mode": {
    "name": "ipython",
    "version": 3
   },
   "file_extension": ".py",
   "mimetype": "text/x-python",
   "name": "python",
   "nbconvert_exporter": "python",
   "pygments_lexer": "ipython3",
   "version": "3.9.7"
  }
 },
 "nbformat": 4,
 "nbformat_minor": 5
}
